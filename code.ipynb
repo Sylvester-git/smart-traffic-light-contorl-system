{
 "cells": [
  {
   "cell_type": "markdown",
   "id": "121963f0",
   "metadata": {},
   "source": [
    "## SMART TRAFFIC LIGHT CONTROL SYSTEM"
   ]
  },
  {
   "cell_type": "code",
   "execution_count": null,
   "id": "7145ae25",
   "metadata": {},
   "outputs": [],
   "source": [
    "import os\n",
    "import sys\n",
    "import importlib\n",
    "import numpy as np\n",
    "import skfuzzy as fuzz\n",
    "from skfuzzy import control as ctrl\n",
    "import matplotlib\n",
    "matplotlib.use('Agg')\n",
    "import matplotlib.pyplot as plt\n",
    "from sklearn.neural_network import MLPRegressor\n",
    "import pandas as pd\n",
    "import time\n",
    "import traceback\n",
    "\n",
    "# Set working directory to ensure generate_report.py is found\n",
    "os.chdir(os.path.dirname(os.path.abspath(__file__))) if '__file__' in globals() else os.chdir(os.getcwd())\n",
    "print(f\"Current working directory: {os.getcwd()}\")\n",
    "\n",
    "# Verify generate_report.py exists\n",
    "if not os.path.exists('generate_report.py'):\n",
    "    print(\"Error: 'generate_report.py' not found in current directory.\")\n",
    "    print(\"Please ensure 'generate_report.py' is in the same directory as this notebook.\")\n",
    "    raise FileNotFoundError(\"generate_report.py not found\")\n",
    "\n",
    "# Import generate_report\n",
    "try:\n",
    "    import generate_report\n",
    "    importlib.reload(generate_report)  # Reload to avoid Jupyter caching issues\n",
    "    print(\"Successfully imported generate_report module\")\n",
    "except ImportError as e:\n",
    "    print(f\"Error: Failed to import generate_report - {e}\")\n",
    "    print(\"Please install the required libraries using:\")\n",
    "    print(\"pip install scikit-fuzzy numpy scipy networkx matplotlib scikit-learn pandas python-docx\")\n",
    "    raise\n"
   ]
  },
  {
   "cell_type": "markdown",
   "id": "620779ae",
   "metadata": {},
   "source": [
    "# Step 1: Generate Realistic Dataset with All Parameters"
   ]
  },
  {
   "cell_type": "code",
   "execution_count": null,
   "id": "bef764c6",
   "metadata": {},
   "outputs": [],
   "source": [
    "def generate_realistic_traffic_data(n_samples=10000):\n",
    "    np.random.seed(42)\n",
    "    data = {\n",
    "        'vehicle_density': [],\n",
    "        'waiting_time': [],\n",
    "        'flow_rate': [],\n",
    "        'queue_length': [],\n",
    "        'emergency_vehicle': [],\n",
    "        'opposing_density': [],\n",
    "        'green_duration': []\n",
    "    }\n",
    "    for _ in range(n_samples):\n",
    "        period = np.random.choice(['rush', 'off-peak', 'night'], p=[0.3, 0.5, 0.2])\n",
    "        if period == 'rush':\n",
    "            density = np.random.randint(70, 100)\n",
    "            wait = np.random.randint(40, 60)\n",
    "            flow = np.random.randint(40, 60)\n",
    "            queue = np.random.randint(20, 30)\n",
    "            emergency = np.random.choice([0, 1], p=[0.95, 0.05])\n",
    "            opp_density = np.random.randint(50, 100)\n",
    "            green = np.random.randint(45, 60)\n",
    "        elif period == 'off-peak':\n",
    "            density = np.random.randint(20, 70)\n",
    "            wait = np.random.randint(10, 40)\n",
    "            flow = np.random.randint(20, 40)\n",
    "            queue = np.random.randint(5, 20)\n",
    "            emergency = np.random.choice([0, 1], p=[0.98, 0.02])\n",
    "            opp_density = np.random.randint(20, 70)\n",
    "            green = np.random.randint(20, 45)\n",
    "        else:  # nighttime\n",
    "            density = np.random.randint(0, 20)\n",
    "            wait = np.random.randint(0, 15)\n",
    "            flow = np.random.randint(0, 20)\n",
    "            queue = np.random.randint(0, 10)\n",
    "            emergency = np.random.choice([0, 1], p=[0.99, 0.01])\n",
    "            opp_density = np.random.randint(0, 20)\n",
    "            green = np.random.randint(10, 20)\n",
    "        data['vehicle_density'].append(density)\n",
    "        data['waiting_time'].append(wait)\n",
    "        data['flow_rate'].append(flow)\n",
    "        data['queue_length'].append(queue)\n",
    "        data['emergency_vehicle'].append(emergency)\n",
    "        data['opposing_density'].append(opp_density)\n",
    "        data['green_duration'].append(green)\n",
    "    return pd.DataFrame(data)\n",
    "\n",
    "data = generate_realistic_traffic_data(n_samples=10000)\n",
    "data.to_csv('traffic_data_10000.csv', index=False)\n",
    "print(\"Dataset saved to 'traffic_data_10000.csv'\")"
   ]
  },
  {
   "cell_type": "markdown",
   "id": "3f5930a8",
   "metadata": {},
   "source": [
    "# Step 2: Load Dataset from CSV"
   ]
  },
  {
   "cell_type": "code",
   "execution_count": null,
   "id": "84163d56",
   "metadata": {},
   "outputs": [],
   "source": [
    "try:\n",
    "    data = pd.read_csv('traffic_data_10000.csv')\n",
    "    print(f\"Loaded {len(data)} samples from 'traffic_data_10000.csv'\")\n",
    "except FileNotFoundError:\n",
    "    print(\"Error: 'traffic_data_10000.csv' not found. Please ensure the file exists.\")\n",
    "    exit(1)"
   ]
  },
  {
   "cell_type": "markdown",
   "id": "9982f505",
   "metadata": {},
   "source": [
    "# Step 3: Define Fuzzy Variables and Membership Functions"
   ]
  },
  {
   "cell_type": "code",
   "execution_count": null,
   "id": "2152c591",
   "metadata": {},
   "outputs": [],
   "source": [
    "vehicle_density = ctrl.Antecedent(np.arange(0, 101, 1), 'vehicle_density')\n",
    "vehicle_density['low'] = fuzz.trimf(vehicle_density.universe, [0, 0, 50])\n",
    "vehicle_density['medium'] = fuzz.trimf(vehicle_density.universe, [25, 50, 75])\n",
    "vehicle_density['high'] = fuzz.trimf(vehicle_density.universe, [50, 100, 100])\n",
    "\n",
    "waiting_time = ctrl.Antecedent(np.arange(0, 61, 1), 'waiting_time')\n",
    "waiting_time['short'] = fuzz.trimf(waiting_time.universe, [0, 0, 30])\n",
    "waiting_time['medium'] = fuzz.trimf(waiting_time.universe, [15, 30, 45])\n",
    "waiting_time['long'] = fuzz.trimf(waiting_time.universe, [30, 60, 60])\n",
    "\n",
    "flow_rate = ctrl.Antecedent(np.arange(0, 61, 1), 'flow_rate')\n",
    "flow_rate['low'] = fuzz.trimf(flow_rate.universe, [0, 0, 25])\n",
    "flow_rate['medium'] = fuzz.trimf(flow_rate.universe, [15, 35, 55])\n",
    "flow_rate['high'] = fuzz.trimf(flow_rate.universe, [45, 60, 60])\n",
    "\n",
    "queue_length = ctrl.Antecedent(np.arange(0, 31, 1), 'queue_length')\n",
    "queue_length['short'] = fuzz.trimf(queue_length.universe, [0, 0, 12])\n",
    "queue_length['medium'] = fuzz.trimf(queue_length.universe, [8, 18, 28])\n",
    "queue_length['long'] = fuzz.trimf(queue_length.universe, [22, 30, 30])\n",
    "\n",
    "emergency_vehicle = ctrl.Antecedent(np.arange(0, 2, 1), 'emergency_vehicle')\n",
    "emergency_vehicle['absent'] = fuzz.trimf(emergency_vehicle.universe, [0, 0, 0])\n",
    "emergency_vehicle['present'] = fuzz.trimf(emergency_vehicle.universe, [1, 1, 1])\n",
    "\n",
    "opposing_density = ctrl.Antecedent(np.arange(0, 101, 1), 'opposing_density')\n",
    "opposing_density['low'] = fuzz.trimf(opposing_density.universe, [0, 0, 50])\n",
    "opposing_density['medium'] = fuzz.trimf(opposing_density.universe, [25, 50, 75])\n",
    "opposing_density['high'] = fuzz.trimf(opposing_density.universe, [50, 100, 100])\n",
    "\n",
    "green_duration = ctrl.Consequent(np.arange(10, 61, 1), 'green_duration')\n",
    "green_duration['short'] = fuzz.trimf(green_duration.universe, [10, 10, 30])\n",
    "green_duration['medium'] = fuzz.trimf(green_duration.universe, [20, 35, 50])\n",
    "green_duration['long'] = fuzz.trimf(green_duration.universe, [40, 60, 60])"
   ]
  },
  {
   "cell_type": "markdown",
   "id": "b4f6458b",
   "metadata": {},
   "source": [
    "# Step 4: Define Expanded Fuzzy Rules"
   ]
  },
  {
   "cell_type": "code",
   "execution_count": null,
   "id": "a96527f9",
   "metadata": {},
   "outputs": [],
   "source": [
    "rule1 = ctrl.Rule(vehicle_density['high'] & waiting_time['long'] & flow_rate['high'] & queue_length['long'] & emergency_vehicle['absent'] & opposing_density['low'], green_duration['long'])\n",
    "rule2 = ctrl.Rule(vehicle_density['medium'] & waiting_time['medium'] & flow_rate['medium'] & queue_length['medium'] & emergency_vehicle['absent'] & opposing_density['medium'], green_duration['medium'])\n",
    "rule3 = ctrl.Rule(vehicle_density['low'] & waiting_time['short'] & flow_rate['low'] & queue_length['short'] & emergency_vehicle['absent'] & opposing_density['high'], green_duration['short'])\n",
    "rule4 = ctrl.Rule(emergency_vehicle['present'], green_duration['long'])\n",
    "rule5 = ctrl.Rule(flow_rate['high'] & queue_length['long'] & opposing_density['low'], green_duration['long'])\n",
    "rule6 = ctrl.Rule(opposing_density['high'] & vehicle_density['low'], green_duration['short'])\n",
    "rule7 = ctrl.Rule(vehicle_density['high'] & queue_length['short'] & flow_rate['medium'], green_duration['medium'])\n",
    "rule8 = ctrl.Rule(waiting_time['long'] & flow_rate['low'] & queue_length['medium'], green_duration['medium'])\n",
    "rule9 = ctrl.Rule(vehicle_density['low'] & opposing_density['low'] & emergency_vehicle['absent'], green_duration['short'])"
   ]
  },
  {
   "cell_type": "markdown",
   "id": "2bb640be",
   "metadata": {},
   "source": [
    "# Step 5: Create Fuzzy Control System"
   ]
  },
  {
   "cell_type": "code",
   "execution_count": null,
   "id": "6a16c80d",
   "metadata": {},
   "outputs": [],
   "source": [
    "traffic_ctrl = ctrl.ControlSystem([rule1, rule2, rule3, rule4, rule5, rule6, rule7, rule8, rule9])\n",
    "traffic_sim = ctrl.ControlSystemSimulation(traffic_ctrl)"
   ]
  },
  {
   "cell_type": "markdown",
   "id": "32ec5c15",
   "metadata": {},
   "source": [
    "# Step 6: Evaluate Performance Across Sample Sizes with Plots"
   ]
  },
  {
   "cell_type": "code",
   "execution_count": null,
   "id": "65801f8e",
   "metadata": {},
   "outputs": [],
   "source": [
    "sample_sizes = [100, 500, 1000, 2500, 5000, 7500, 10000]\n",
    "performance_data = {\n",
    "    'sample_size': [],\n",
    "    'avg_wait_time': [],\n",
    "    'training_time': []\n",
    "}\n",
    "\n",
    "for n_samples in sample_sizes:\n",
    "    print(f\"\\nEvaluating performance with {n_samples} samples...\")\n",
    "    subset_data = data.sample(n=n_samples, random_state=42)\n",
    "    train_data = subset_data.sample(frac=0.8, random_state=42)\n",
    "    test_data = subset_data.drop(train_data.index)\n",
    "    \n",
    "    start_time = time.time()\n",
    "    X_train = train_data[['vehicle_density', 'waiting_time', 'flow_rate', 'queue_length', 'emergency_vehicle', 'opposing_density']].values\n",
    "    y_train = train_data['green_duration'].values\n",
    "    mlp = MLPRegressor(hidden_layer_sizes=(10, 10), max_iter=1000, random_state=42)\n",
    "    mlp.fit(X_train, y_train)\n",
    "    training_time = time.time() - start_time\n",
    "    \n",
    "    wait_times = []\n",
    "    predicted_green_durations = []\n",
    "    for i in test_data.index:\n",
    "        inputs = {\n",
    "            'vehicle_density': np.clip(test_data.loc[i, 'vehicle_density'], 0, 100),\n",
    "            'waiting_time': np.clip(test_data.loc[i, 'waiting_time'], 0, 60),\n",
    "            'flow_rate': np.clip(test_data.loc[i, 'flow_rate'], 0, 60),\n",
    "            'queue_length': np.clip(test_data.loc[i, 'queue_length'], 0, 30),\n",
    "            'emergency_vehicle': np.clip(test_data.loc[i, 'emergency_vehicle'], 0, 1),\n",
    "            'opposing_density': np.clip(test_data.loc[i, 'opposing_density'], 0, 100)\n",
    "        }\n",
    "        if any(np.isnan(val) for val in inputs.values()):\n",
    "            print(f\"Warning: Invalid input for sample {i}: {inputs}\")\n",
    "            predicted_green_durations.append(10)\n",
    "            wait_times.append(test_data.loc[i, 'waiting_time'])\n",
    "            continue\n",
    "        \n",
    "        traffic_sim.input['vehicle_density'] = inputs['vehicle_density']\n",
    "        traffic_sim.input['waiting_time'] = inputs['waiting_time']\n",
    "        traffic_sim.input['flow_rate'] = inputs['flow_rate']\n",
    "        traffic_sim.input['queue_length'] = inputs['queue_length']\n",
    "        traffic_sim.input['emergency_vehicle'] = inputs['emergency_vehicle']\n",
    "        traffic_sim.input['opposing_density'] = inputs['opposing_density']\n",
    "        try:\n",
    "            traffic_sim.compute()\n",
    "            fuzzy_green = traffic_sim.output['green_duration']\n",
    "            nn_green = mlp.predict([[inputs['vehicle_density'], inputs['waiting_time'], \n",
    "                                    inputs['flow_rate'], inputs['queue_length'], \n",
    "                                    inputs['emergency_vehicle'], inputs['opposing_density']]])[0]\n",
    "            green_time = 0.7 * fuzzy_green + 0.3 * nn_green\n",
    "            green_time = np.clip(green_time, 10, 60)\n",
    "            predicted_green_durations.append(green_time)\n",
    "            wait_time = max(0, test_data.loc[i, 'waiting_time'] - green_time)\n",
    "            wait_times.append(wait_time)\n",
    "        except Exception as e:\n",
    "            print(f\"Error during simulation for sample {i}: {e}\")\n",
    "            print(f\"Inputs: {inputs}\")\n",
    "            predicted_green_durations.append(10)\n",
    "            wait_times.append(test_data.loc[i, 'waiting_time'])\n",
    "    \n",
    "    avg_wait_time = np.mean(wait_times)\n",
    "    performance_data['sample_size'].append(n_samples)\n",
    "    performance_data['avg_wait_time'].append(avg_wait_time)\n",
    "    performance_data['training_time'].append(training_time)\n",
    "    print(f\"Sample Size: {n_samples}, Avg Wait Time: {avg_wait_time:.2f} seconds, Training Time: {training_time:.2f} seconds\")\n",
    "    \n",
    "    plt.figure(figsize=(10, 6))\n",
    "    plt.scatter(test_data['vehicle_density'], test_data['waiting_time'], c=predicted_green_durations, cmap='viridis')\n",
    "    plt.colorbar(label='Green Light Duration (seconds)')\n",
    "    plt.xlabel('Vehicle Density')\n",
    "    plt.ylabel('Waiting Time (seconds)')\n",
    "    plt.title(f'Traffic Light Control: Green Light Duration ({n_samples} Samples, Test Set)')\n",
    "    plt.savefig(f'traffic_plot_{n_samples}.png')\n",
    "    plt.close()\n",
    "    print(f\"Traffic plot for {n_samples} samples saved to 'traffic_plot_{n_samples}.png'\")"
   ]
  },
  {
   "cell_type": "markdown",
   "id": "71d9d5b6",
   "metadata": {},
   "source": [
    "# Step 7: Save Performance Metrics to CSV"
   ]
  },
  {
   "cell_type": "code",
   "execution_count": null,
   "id": "b55a9311",
   "metadata": {},
   "outputs": [],
   "source": [
    "performance_df = pd.DataFrame(performance_data)\n",
    "performance_df.to_csv('performance_metrics.csv', index=False)\n",
    "print(\"\\nPerformance metrics saved to 'performance_metrics.csv'\")"
   ]
  },
  {
   "cell_type": "markdown",
   "id": "5b193c19",
   "metadata": {},
   "source": [
    "# Step 8: Visualize Performance Metrics"
   ]
  },
  {
   "cell_type": "code",
   "execution_count": null,
   "id": "de57f5b4",
   "metadata": {},
   "outputs": [],
   "source": [
    "if not performance_data['sample_size']:\n",
    "    print(\"Error: No performance metrics to plot. Check data generation.\")\n",
    "else:\n",
    "    print(\"Performance Metrics:\", performance_data)\n",
    "    plt.figure(figsize=(12, 6))\n",
    "    plt.subplot(1, 2, 1)\n",
    "    plt.plot(performance_data['sample_size'], performance_data['avg_wait_time'], marker='o')\n",
    "    plt.xlabel('Sample Size')\n",
    "    plt.ylabel('Average Waiting Time (seconds)')\n",
    "    plt.title('Average Waiting Time vs. Sample Size')\n",
    "    plt.grid(True)\n",
    "    plt.subplot(1, 2, 2)\n",
    "    plt.plot(performance_data['sample_size'], performance_data['training_time'], marker='o', color='orange')\n",
    "    plt.xlabel('Sample Size')\n",
    "    plt.ylabel('Training Time (seconds)')\n",
    "    plt.title('Training Time vs. Sample Size')\n",
    "    plt.grid(True)\n",
    "    plt.tight_layout()\n",
    "    plt.savefig('performance_plot.png')\n",
    "    plt.close()\n",
    "    print(\"Performance plot saved to 'performance_plot.png'\")"
   ]
  },
  {
   "cell_type": "markdown",
   "id": "f45fd2ca",
   "metadata": {},
   "source": [
    "# Step 9: Run Full Evaluation with 10000 Samples"
   ]
  },
  {
   "cell_type": "code",
   "execution_count": null,
   "id": "a0c9425b",
   "metadata": {},
   "outputs": [],
   "source": [
    "train_data = data.sample(frac=0.8, random_state=42)\n",
    "test_data = data.drop(train_data.index)\n",
    "\n",
    "X_train = train_data[['vehicle_density', 'waiting_time', 'flow_rate', 'queue_length', 'emergency_vehicle', 'opposing_density']].values\n",
    "y_train = train_data['green_duration'].values\n",
    "mlp = MLPRegressor(hidden_layer_sizes=(10, 10), max_iter=1000, random_state=42)\n",
    "mlp.fit(X_train, y_train)\n",
    "\n",
    "wait_times = []\n",
    "predicted_green_durations = []\n",
    "test_results = {\n",
    "    'vehicle_density': [],\n",
    "    'waiting_time': [],\n",
    "    'flow_rate': [],\n",
    "    'queue_length': [],\n",
    "    'emergency_vehicle': [],\n",
    "    'opposing_density': [],\n",
    "    'predicted_green_duration': [],\n",
    "    'actual_wait_time': []\n",
    "}\n",
    "\n",
    "for i in test_data.index:\n",
    "    inputs = {\n",
    "        'vehicle_density': np.clip(test_data.loc[i, 'vehicle_density'], 0, 100),\n",
    "        'waiting_time': np.clip(test_data.loc[i, 'waiting_time'], 0, 60),\n",
    "        'flow_rate': np.clip(test_data.loc[i, 'flow_rate'], 0, 60),\n",
    "        'queue_length': np.clip(test_data.loc[i, 'queue_length'], 0, 30),\n",
    "        'emergency_vehicle': np.clip(test_data.loc[i, 'emergency_vehicle'], 0, 1),\n",
    "        'opposing_density': np.clip(test_data.loc[i, 'opposing_density'], 0, 100)\n",
    "    }\n",
    "    if any(np.isnan(val) for val in inputs.values()):\n",
    "        print(f\"Warning: Invalid input for sample {i}: {inputs}\")\n",
    "        predicted_green_durations.append(10)\n",
    "        wait_times.append(test_data.loc[i, 'waiting_time'])\n",
    "        test_results['vehicle_density'].append(test_data.loc[i, 'vehicle_density'])\n",
    "        test_results['waiting_time'].append(test_data.loc[i, 'waiting_time'])\n",
    "        test_results['flow_rate'].append(test_data.loc[i, 'flow_rate'])\n",
    "        test_results['queue_length'].append(test_data.loc[i, 'queue_length'])\n",
    "        test_results['emergency_vehicle'].append(test_data.loc[i, 'emergency_vehicle'])\n",
    "        test_results['opposing_density'].append(test_data.loc[i, 'opposing_density'])\n",
    "        test_results['predicted_green_duration'].append(10)\n",
    "        test_results['actual_wait_time'].append(test_data.loc[i, 'waiting_time'])\n",
    "        continue\n",
    "    \n",
    "    traffic_sim.input['vehicle_density'] = inputs['vehicle_density']\n",
    "    traffic_sim.input['waiting_time'] = inputs['waiting_time']\n",
    "    traffic_sim.input['flow_rate'] = inputs['flow_rate']\n",
    "    traffic_sim.input['queue_length'] = inputs['queue_length']\n",
    "    traffic_sim.input['emergency_vehicle'] = inputs['emergency_vehicle']\n",
    "    traffic_sim.input['opposing_density'] = inputs['opposing_density']\n",
    "    try:\n",
    "        traffic_sim.compute()\n",
    "        fuzzy_green = traffic_sim.output['green_duration']\n",
    "        nn_green = mlp.predict([[inputs['vehicle_density'], inputs['waiting_time'], \n",
    "                                inputs['flow_rate'], inputs['queue_length'], \n",
    "                                inputs['emergency_vehicle'], inputs['opposing_density']]])[0]\n",
    "        green_time = 0.7 * fuzzy_green + 0.3 * nn_green\n",
    "        green_time = np.clip(green_time, 10, 60)\n",
    "        wait_time = max(0, test_data.loc[i, 'waiting_time'] - green_time)\n",
    "        \n",
    "        predicted_green_durations.append(green_time)\n",
    "        wait_times.append(wait_time)\n",
    "        test_results['vehicle_density'].append(inputs['vehicle_density'])\n",
    "        test_results['waiting_time'].append(inputs['waiting_time'])\n",
    "        test_results['flow_rate'].append(inputs['flow_rate'])\n",
    "        test_results['queue_length'].append(inputs['queue_length'])\n",
    "        test_results['emergency_vehicle'].append(inputs['emergency_vehicle'])\n",
    "        test_results['opposing_density'].append(inputs['opposing_density'])\n",
    "        test_results['predicted_green_duration'].append(green_time)\n",
    "        test_results['actual_wait_time'].append(wait_time)\n",
    "    except Exception as e:\n",
    "        print(f\"Error during simulation for sample {i}: {e}\")\n",
    "        print(f\"Inputs: {inputs}\")\n",
    "        predicted_green_durations.append(10)\n",
    "        wait_times.append(test_data.loc[i, 'waiting_time'])\n",
    "        test_results['vehicle_density'].append(inputs['vehicle_density'])\n",
    "        test_results['waiting_time'].append(inputs['waiting_time'])\n",
    "        test_results['flow_rate'].append(inputs['flow_rate'])\n",
    "        test_results['queue_length'].append(inputs['queue_length'])\n",
    "        test_results['emergency_vehicle'].append(inputs['emergency_vehicle'])\n",
    "        test_results['opposing_density'].append(inputs['opposing_density'])\n",
    "        test_results['predicted_green_duration'].append(10)\n",
    "        test_results['actual_wait_time'].append(test_data.loc[i, 'waiting_time'])"
   ]
  },
  {
   "cell_type": "markdown",
   "id": "2d62dd6a",
   "metadata": {},
   "source": [
    "# Step 10: Save Full Test Results to CSV"
   ]
  },
  {
   "cell_type": "code",
   "execution_count": null,
   "id": "f9f331d6",
   "metadata": {},
   "outputs": [],
   "source": [
    "test_results_df = pd.DataFrame(test_results)\n",
    "test_results_df.to_csv('test_results_10000.csv', index=False)\n",
    "print(\"Full test set results saved to 'test_results_10000.csv'\")"
   ]
  },
  {
   "cell_type": "markdown",
   "id": "35be2336",
   "metadata": {},
   "source": [
    "# Step 11: Save Detailed Results for 10000 Samples"
   ]
  },
  {
   "cell_type": "code",
   "execution_count": null,
   "id": "902e22ba",
   "metadata": {},
   "outputs": [],
   "source": [
    "avg_wait_time = np.mean(wait_times)\n",
    "with open('traffic_results_10000.txt', 'w') as f:\n",
    "    f.write(f\"Average Waiting Time (Test Set): {avg_wait_time:.2f} seconds\\n\")\n",
    "    f.write(f\"Number of Training Samples: {len(train_data)}\\n\")\n",
    "    f.write(f\"Number of Test Samples: {len(test_data)}\\n\")\n",
    "    f.write(\"Sample Test Data (Vehicle Density, Waiting Time, Flow Rate, Queue Length, Emergency Vehicle, Opposing Density, Predicted Green Duration):\\n\")\n",
    "    for i, idx in enumerate(test_data.index[:10]):\n",
    "        f.write(f\"{test_data.loc[idx, 'vehicle_density']}, {test_data.loc[idx, 'waiting_time']}, \"\n",
    "                f\"{test_data.loc[idx, 'flow_rate']}, {test_data.loc[idx, 'queue_length']}, \"\n",
    "                f\"{test_data.loc[idx, 'emergency_vehicle']}, {test_data.loc[idx, 'opposing_density']}, \"\n",
    "                f\"{predicted_green_durations[i]:.2f}\\n\")\n",
    "print(\"Detailed results saved to 'traffic_results_10000.txt'\")"
   ]
  },
  {
   "cell_type": "markdown",
   "id": "81c3765a",
   "metadata": {},
   "source": [
    "# Step 12: Visualize Test Set for 10000 Samples"
   ]
  },
  {
   "cell_type": "code",
   "execution_count": null,
   "id": "6431d173",
   "metadata": {},
   "outputs": [],
   "source": [
    "plt.figure(figsize=(10, 6))\n",
    "plt.scatter(test_data['vehicle_density'], test_data['waiting_time'], c=predicted_green_durations, cmap='viridis')\n",
    "plt.colorbar(label='Green Light Duration (seconds)')\n",
    "plt.xlabel('Vehicle Density')\n",
    "plt.ylabel('Waiting Time (seconds)')\n",
    "plt.title('Traffic Light Control: Green Light Duration (10000 Samples, Test Set)')\n",
    "plt.savefig('traffic_plot_10000.png')\n",
    "plt.close()\n",
    "print(\"Traffic plot saved to 'traffic_plot_10000.png'\")"
   ]
  },
  {
   "cell_type": "markdown",
   "id": "6d54f59f",
   "metadata": {},
   "source": [
    "# Step 13: Prepare Example Test Results for Report"
   ]
  },
  {
   "cell_type": "code",
   "execution_count": null,
   "id": "d830f934",
   "metadata": {},
   "outputs": [],
   "source": [
    "example_test_results = test_results_df.head(2)[[\n",
    "    'vehicle_density', 'waiting_time', 'flow_rate', 'queue_length', \n",
    "    'emergency_vehicle', 'opposing_density', 'predicted_green_duration', 'actual_wait_time'\n",
    "]].values.tolist()"
   ]
  },
  {
   "cell_type": "markdown",
   "id": "61b90ac6",
   "metadata": {},
   "source": [
    "# Step 14: Generate the Report with Actual Data"
   ]
  },
  {
   "cell_type": "code",
   "execution_count": null,
   "id": "6d64c063",
   "metadata": {},
   "outputs": [],
   "source": [
    "print(f\"Type of performance_data: {type(performance_data)}\")\n",
    "print(f\"Content of performance_data: {performance_data}\")\n",
    "print(f\"Type of avg_wait_time: {type(avg_wait_time)}\")\n",
    "print(f\"Content of avg_wait_time: {avg_wait_time}\")\n",
    "print(f\"Type of example_test_results: {type(example_test_results)}\")\n",
    "print(f\"Content of example_test_results: {example_test_results}\")\n",
    "print(f\"Type of generate_report: {type(generate_report)}\")\n",
    "print(f\"generate_report module path: {generate_report.__file__}\")\n",
    "\n",
    "\n",
    "if not isinstance(performance_data, dict):\n",
    "    print(\"Error: performance_data is not a dictionary. Check for naming conflicts or redefinition.\")\n",
    "    raise ValueError(\"performance_data is not a dictionary\")\n",
    "if not isinstance(avg_wait_time, (int, float, np.float64)):\n",
    "    print(\"Error: avg_wait_time is not a number. Check simulation logic.\")\n",
    "    raise ValueError(\"avg_wait_time is not a number\")\n",
    "if not isinstance(example_test_results, list):\n",
    "    print(\"Error: example_test_results is not a list. Check test results preparation.\")\n",
    "    raise ValueError(\"example_test_results is not a list\")\n",
    "if not hasattr(generate_report, 'generate_report'):\n",
    "    print(\"Error: generate_report module does not have a generate_report function.\")\n",
    "    raise AttributeError(\"generate_report function not found in module\")\n",
    "\n",
    "try:\n",
    "    generate_report.generate_report(avg_wait_time, performance_data, example_test_results)\n",
    "    print(\"Report generation completed. Check 'traffic_control_report.docx'.\")\n",
    "except Exception as e:\n",
    "    print(f\"Error generating report: {e}\")\n",
    "    traceback.print_exc()\n",
    "    print(\"Ensure 'generate_report.py' is in the same directory as this notebook and 'python-docx' is installed.\")\n",
    "    print(\"Check for files named 'performance_metrics.py', 'perf_metrics.py', or similar in the directory.\")\n",
    "    print(\"Verify that 'generate_report' is not redefined in the notebook (e.g., as a variable).\")"
   ]
  }
 ],
 "metadata": {
  "kernelspec": {
   "display_name": "Python 3",
   "language": "python",
   "name": "python3"
  },
  "language_info": {
   "codemirror_mode": {
    "name": "ipython",
    "version": 3
   },
   "file_extension": ".py",
   "mimetype": "text/x-python",
   "name": "python",
   "nbconvert_exporter": "python",
   "pygments_lexer": "ipython3",
   "version": "3.12.1"
  }
 },
 "nbformat": 4,
 "nbformat_minor": 5
}
